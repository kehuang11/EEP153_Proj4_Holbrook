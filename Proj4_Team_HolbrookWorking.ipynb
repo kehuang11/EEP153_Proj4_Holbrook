{
 "cells": [
  {
   "cell_type": "markdown",
   "id": "34042993",
   "metadata": {},
   "source": [
    "# Project 4 - Team Holbrook Working"
   ]
  },
  {
   "cell_type": "markdown",
   "id": "8564c954",
   "metadata": {},
   "source": [
    "## Setup"
   ]
  },
  {
   "cell_type": "code",
   "execution_count": null,
   "id": "25fb18c7",
   "metadata": {},
   "outputs": [
    {
     "name": "stdout",
     "output_type": "stream",
     "text": [
      "Collecting CFEDemands>=0.4.1\n",
      "  Downloading CFEDemands-0.5.4-py2.py3-none-any.whl (47 kB)\n",
      "\u001b[2K     \u001b[90m━━━━━━━━━━━━━━━━━━━━━━━━━━━━━━━━━━━━━━━\u001b[0m \u001b[32m47.3/47.3 kB\u001b[0m \u001b[31m482.8 kB/s\u001b[0m eta \u001b[36m0:00:00\u001b[0m \u001b[36m0:00:01\u001b[0m\n",
      "\u001b[?25hCollecting gspread>=5.0.1\n",
      "  Using cached gspread-5.8.0-py3-none-any.whl (40 kB)\n",
      "Collecting gspread_pandas>=3.2.0\n",
      "  Downloading gspread_pandas-3.2.2-py2.py3-none-any.whl (26 kB)\n",
      "Collecting oauth2client>=4.1.3\n",
      "  Using cached oauth2client-4.1.3-py2.py3-none-any.whl (98 kB)\n",
      "Collecting eep153_tools>=0.11\n",
      "  Using cached eep153_tools-0.11-py2.py3-none-any.whl (4.4 kB)\n",
      "Collecting python-gnupg\n",
      "  Using cached python_gnupg-0.5.0-py2.py3-none-any.whl (18 kB)\n",
      "Collecting ConsumerDemands\n",
      "  Using cached ConsumerDemands-0.4.1.dev0-py2.py3-none-any.whl (12 kB)\n",
      "Requirement already satisfied: numpy>=1.21.5 in /opt/conda/lib/python3.9/site-packages (from CFEDemands>=0.4.1->-r requirements.txt (line 5)) (1.21.6)\n",
      "Collecting joblib>=1.1.0\n",
      "  Using cached joblib-1.2.0-py3-none-any.whl (297 kB)\n",
      "Requirement already satisfied: pytest>=7.1.1 in /opt/conda/lib/python3.9/site-packages (from CFEDemands>=0.4.1->-r requirements.txt (line 5)) (7.2.2)\n",
      "Requirement already satisfied: scipy>=1.7.3 in /opt/conda/lib/python3.9/site-packages (from CFEDemands>=0.4.1->-r requirements.txt (line 5)) (1.10.1)\n",
      "Collecting xarray>=0.20.1\n",
      "  Downloading xarray-2023.4.0-py3-none-any.whl (977 kB)\n",
      "\u001b[2K     \u001b[90m━━━━━━━━━━━━━━━━━━━━━━━━━━━━━━━━━━━━━━━\u001b[0m \u001b[32m977.3/977.3 kB\u001b[0m \u001b[31m8.4 MB/s\u001b[0m eta \u001b[36m0:00:00\u001b[0m00:01\u001b[0m\n",
      "\u001b[?25hCollecting ray>=2.0.0\n",
      "  Using cached ray-2.3.1-cp39-cp39-manylinux2014_x86_64.whl (58.6 MB)\n",
      "Collecting dvc>=2.18.1\n",
      "  Using cached dvc-2.54.0-py3-none-any.whl (417 kB)\n",
      "Requirement already satisfied: matplotlib>=3.5.1 in /opt/conda/lib/python3.9/site-packages (from CFEDemands>=0.4.1->-r requirements.txt (line 5)) (3.5.3)\n",
      "Requirement already satisfied: statsmodels>=0.13.2 in /opt/conda/lib/python3.9/site-packages (from CFEDemands>=0.4.1->-r requirements.txt (line 5)) (0.13.5)\n",
      "Collecting pandas>=1.4.2\n"
     ]
    }
   ],
   "source": [
    "!pip install -r requirements.txt "
   ]
  },
  {
   "cell_type": "code",
   "execution_count": null,
   "id": "9c786193",
   "metadata": {},
   "outputs": [],
   "source": []
  }
 ],
 "metadata": {
  "kernelspec": {
   "display_name": "Python 3 (ipykernel)",
   "language": "python",
   "name": "python3"
  },
  "language_info": {
   "codemirror_mode": {
    "name": "ipython",
    "version": 3
   },
   "file_extension": ".py",
   "mimetype": "text/x-python",
   "name": "python",
   "nbconvert_exporter": "python",
   "pygments_lexer": "ipython3",
   "version": "3.9.15"
  }
 },
 "nbformat": 4,
 "nbformat_minor": 5
}
